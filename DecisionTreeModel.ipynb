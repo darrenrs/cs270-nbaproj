{
 "cells": [
  {
   "cell_type": "markdown",
   "source": [
    "# ML Model: Decision Tree\n",
    "\n",
    "\n",
    "\n"
   ],
   "metadata": {
    "collapsed": false
   }
  },
  {
   "cell_type": "code",
   "execution_count": 12,
   "outputs": [],
   "source": [
    "import pandas as pd\n",
    "from sklearn.model_selection import train_test_split\n",
    "from sklearn.tree import DecisionTreeClassifier\n",
    "from sklearn.metrics import accuracy_score, classification_report\n",
    "\n",
    "df = pd.read_csv('combined_out.csv')\n"
   ],
   "metadata": {
    "collapsed": false,
    "ExecuteTime": {
     "end_time": "2024-04-05T23:19:11.874195200Z",
     "start_time": "2024-04-05T23:19:11.820651100Z"
    }
   }
  },
  {
   "cell_type": "code",
   "execution_count": 13,
   "outputs": [],
   "source": [
    "df_processed = df.drop('Date', axis=1)\n",
    "df_one_hot_encoded = pd.get_dummies(df_processed, columns=['AwayTeam', 'HomeTeam', 'WL_AWAY', 'WL_HOME'])\n"
   ],
   "metadata": {
    "collapsed": false,
    "ExecuteTime": {
     "end_time": "2024-04-05T23:20:05.600641100Z",
     "start_time": "2024-04-05T23:20:05.583732400Z"
    }
   }
  },
  {
   "cell_type": "code",
   "execution_count": 14,
   "outputs": [
    {
     "name": "stdout",
     "output_type": "stream",
     "text": [
      "Accuracy: 0.8634528016153458\n",
      "              precision    recall  f1-score   support\n",
      "\n",
      "           0       0.94      0.93      0.93      3446\n",
      "           1       0.43      0.47      0.45       443\n",
      "           2       0.27      0.26      0.27        73\n",
      "\n",
      "    accuracy                           0.86      3962\n",
      "   macro avg       0.55      0.55      0.55      3962\n",
      "weighted avg       0.87      0.86      0.87      3962\n"
     ]
    }
   ],
   "source": [
    "df_one_hot_encoded = df_one_hot_encoded.dropna(subset=['HomeSpread'])\n",
    "X = df_one_hot_encoded.drop('HomeSpread', axis=1)\n",
    "y = df_one_hot_encoded['HomeSpread']\n",
    "bins = [-float('inf'), 5, 10, float('inf')]\n",
    "y_binned = pd.cut(y, bins=bins, labels=False)\n",
    "\n",
    "X_train, X_test, y_train, y_test = train_test_split(X, y_binned, test_size=0.2, random_state=1)\n",
    "\n",
    "model = DecisionTreeClassifier(random_state=1)\n",
    "model.fit(X_train, y_train)\n",
    "\n",
    "predictions = model.predict(X_test)\n",
    "\n",
    "print(\"Accuracy:\", accuracy_score(y_test, predictions))\n",
    "print(classification_report(y_test, predictions))"
   ],
   "metadata": {
    "collapsed": false,
    "ExecuteTime": {
     "end_time": "2024-04-05T23:20:08.906131100Z",
     "start_time": "2024-04-05T23:20:08.529037300Z"
    }
   }
  }
 ],
 "metadata": {
  "colab": {
   "collapsed_sections": [],
   "provenance": []
  },
  "kernelspec": {
   "display_name": "Python 3",
   "language": "python",
   "name": "python3"
  },
  "language_info": {
   "codemirror_mode": {
    "name": "ipython",
    "version": 3
   },
   "file_extension": ".py",
   "mimetype": "text/x-python",
   "name": "python",
   "nbconvert_exporter": "python",
   "pygments_lexer": "ipython3",
   "version": "3.6.9"
  }
 },
 "nbformat": 4,
 "nbformat_minor": 0
}
