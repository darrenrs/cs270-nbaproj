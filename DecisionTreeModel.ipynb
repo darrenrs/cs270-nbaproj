{
 "cells": [
  {
   "cell_type": "markdown",
   "metadata": {
    "collapsed": false
   },
   "source": [
    "# ML Model: Decision Tree\n",
    "\n",
    "\n",
    "\n"
   ]
  },
  {
   "cell_type": "code",
   "execution_count": 6,
   "metadata": {
    "ExecuteTime": {
     "end_time": "2024-04-05T23:19:11.874195200Z",
     "start_time": "2024-04-05T23:19:11.820651100Z"
    },
    "collapsed": false
   },
   "outputs": [],
   "source": [
    "import pandas as pd\n",
    "from sklearn.model_selection import train_test_split\n",
    "from sklearn.tree import DecisionTreeClassifier\n",
    "from sklearn.metrics import accuracy_score, classification_report"
   ]
  },
  {
   "cell_type": "markdown",
   "metadata": {},
   "source": [
    "NEW SECTION:"
   ]
  },
  {
   "cell_type": "code",
   "execution_count": 1,
   "metadata": {},
   "outputs": [],
   "source": [
    "import pandas as pd\n",
    "import numpy as np\n",
    "from sklearn.neighbors import KNeighborsClassifier, KNeighborsRegressor\n",
    "from sklearn.metrics import mean_absolute_error\n",
    "from sklearn.model_selection import train_test_split\n",
    "import matplotlib.pyplot as plt\n",
    "import tabulate\n",
    "\n",
    "UNNORMALIZE_FACTOR = 131  # MAX(HomeSpreadActual) - MIN(HomeSpreadActual)\n",
    "UNNORMALIZE_FACTOR_PREDICT = 41\n",
    "\n",
    "# REGRESSION\n",
    "# Return X = testable features, Y = point spread\n",
    "def spread_df_rgn(normalize=False, get_custom_date_range=False, substituted_spreads=None):\n",
    "  data_df = pd.read_csv('combined_out.csv')\n",
    "\n",
    "  real_cols = data_df.select_dtypes(include=['number']).columns\n",
    "\n",
    "  if not get_custom_date_range:\n",
    "    data_df = data_df.dropna(axis=0)\n",
    "\n",
    "  if normalize:\n",
    "    for col in real_cols:\n",
    "      min_val = data_df[col].min()\n",
    "      max_val = data_df[col].max()\n",
    "      data_df[col] = (data_df[col] - min_val) / (max_val - min_val)\n",
    "\n",
    "  if get_custom_date_range:\n",
    "    data_df = data_df[(data_df['Date'] >= '2024-04-01') & (data_df['Date'] <= '2024-04-07')]\n",
    "    data_df['HomeSpread'] = substituted_spreads\n",
    "    data_df['HomeSpreadCorrectDirection'] = data_df['HomeSpreadActual'] > data_df['HomeSpread']\n",
    "    data_df['HomeSpreadCorrectDirection'] = data_df['HomeSpreadCorrectDirection'].astype(int)\n",
    "  \n",
    "  data_df = data_df.drop('AwayTeam', axis=1)\\\n",
    "                   .drop('HomeTeam', axis=1)\\\n",
    "                   .drop('Date', axis=1)\n",
    "  \n",
    "  data_np = data_df.to_numpy()\n",
    "  data_np = data_np[:, 5:]\n",
    "\n",
    "  data_np = data_np.astype(float)\n",
    "\n",
    "  return data_np[:, 1:-1], data_np[:, :1]\n",
    "\n",
    "# CLASSIFICATION\n",
    "# Return X = testable features, Y = correct point spread direction\n",
    "def spread_df_cls(normalize=False, get_custom_date_range=False, substituted_spreads=None):\n",
    "  data_df = pd.read_csv('combined_out.csv')\n",
    "\n",
    "  real_cols = data_df.select_dtypes(include=['number']).columns\n",
    "\n",
    "  if not get_custom_date_range:\n",
    "    data_df = data_df.dropna(axis=0)\n",
    "\n",
    "  if normalize:\n",
    "    for col in real_cols:\n",
    "      min_val = data_df[col].min()\n",
    "      max_val = data_df[col].max()\n",
    "      data_df[col] = (data_df[col] - min_val) / (max_val - min_val)\n",
    "\n",
    "  if get_custom_date_range:\n",
    "    data_df = data_df[(data_df['Date'] >= '2024-04-01') & (data_df['Date'] <= '2024-04-07')]\n",
    "    data_df['HomeSpread'] = substituted_spreads\n",
    "    data_df['HomeSpreadCorrectDirection'] = data_df['HomeSpreadActual'] > data_df['HomeSpread']\n",
    "    data_df['HomeSpreadCorrectDirection'] = data_df['HomeSpreadCorrectDirection'].astype(int)\n",
    "\n",
    "  data_df = data_df.drop('AwayTeam', axis=1)\\\n",
    "                   .drop('HomeTeam', axis=1)\\\n",
    "                   .drop('Date', axis=1)\n",
    "  \n",
    "  data_np = data_df.to_numpy()\n",
    "  data_np = data_np[:, 5:]\n",
    "\n",
    "  data_np = data_np.astype(float)\n",
    "\n",
    "  return data_np[:, 1:-1], data_np[:, -1:]"
   ]
  },
  {
   "cell_type": "code",
   "execution_count": 15,
   "metadata": {},
   "outputs": [
    {
     "name": "stdout",
     "output_type": "stream",
     "text": [
      "Accuracy: 0.5030287733467945\n",
      "              precision    recall  f1-score   support\n",
      "\n",
      "         0.0       0.51      0.51      0.51      2008\n",
      "         1.0       0.50      0.50      0.50      1954\n",
      "\n",
      "    accuracy                           0.50      3962\n",
      "   macro avg       0.50      0.50      0.50      3962\n",
      "weighted avg       0.50      0.50      0.50      3962\n",
      "\n"
     ]
    }
   ],
   "source": [
    "X, y = spread_df_cls()\n",
    "X_train, X_test, y_train, y_test = train_test_split(X, y, train_size=0.8, test_size=0.2)\n",
    "\n",
    "model = DecisionTreeClassifier()\n",
    "model.fit(X_train, y_train)\n",
    "\n",
    "predictions = model.predict(X_test)\n",
    "\n",
    "\n",
    "\n",
    "print(\"Accuracy:\", accuracy_score(y_test, predictions))\n",
    "print(classification_report(y_test, predictions))"
   ]
  }
 ],
 "metadata": {
  "colab": {
   "collapsed_sections": [],
   "provenance": []
  },
  "kernelspec": {
   "display_name": "Python 3",
   "language": "python",
   "name": "python3"
  },
  "language_info": {
   "codemirror_mode": {
    "name": "ipython",
    "version": 3
   },
   "file_extension": ".py",
   "mimetype": "text/x-python",
   "name": "python",
   "nbconvert_exporter": "python",
   "pygments_lexer": "ipython3",
   "version": "3.11.5"
  }
 },
 "nbformat": 4,
 "nbformat_minor": 0
}
