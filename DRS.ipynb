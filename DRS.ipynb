{
 "cells": [
  {
   "cell_type": "markdown",
   "metadata": {},
   "source": [
    "# Libraries and Parse Data"
   ]
  },
  {
   "cell_type": "code",
   "execution_count": 71,
   "metadata": {},
   "outputs": [
    {
     "name": "stdout",
     "output_type": "stream",
     "text": [
      "(array([[ 1.42452423e+03,  1.68693788e+03,  2.39600000e+02, ...,\n",
      "         1.86000000e+01, -1.70000000e+01,  5.60000000e+00],\n",
      "       [ 1.56916316e+03,  1.47330176e+03,  2.40500000e+02, ...,\n",
      "         2.49000000e+01, -2.40000000e+00, -5.50000000e+00],\n",
      "       [ 1.58203631e+03,  1.54225772e+03,  2.39700000e+02, ...,\n",
      "         2.95000000e+01,  1.10000000e+00, -1.31000000e+01],\n",
      "       ...,\n",
      "       [ 1.50086384e+03,  1.50258666e+03,  2.39100000e+02, ...,\n",
      "         2.09000000e+01,  1.10000000e+00,  1.30000000e+00],\n",
      "       [ 1.51366683e+03,  1.64375774e+03,  2.39300000e+02, ...,\n",
      "         1.88000000e+01, -1.81000000e+01,  1.94000000e+01],\n",
      "       [ 1.30508901e+03,  1.47892752e+03,  2.39400000e+02, ...,\n",
      "         1.83000000e+01, -1.65000000e+01,  8.00000000e-01]]), array([[1.],\n",
      "       [0.],\n",
      "       [1.],\n",
      "       ...,\n",
      "       [1.],\n",
      "       [0.],\n",
      "       [0.]]))\n"
     ]
    }
   ],
   "source": [
    "import pandas as pd\n",
    "from sklearn.neighbors import KNeighborsClassifier, KNeighborsRegressor\n",
    "from sklearn.metrics import mean_absolute_error\n",
    "from sklearn.model_selection import train_test_split\n",
    "\n",
    "def spread_df_rgn(normalize=False):\n",
    "  data_df = pd.read_csv('combined_out.csv')\n",
    "  data_df = data_df.drop('AwayTeam', axis=1)\\\n",
    "                   .drop('HomeTeam', axis=1)\\\n",
    "                   .drop('Date', axis=1)\n",
    "  data_df = data_df.dropna(axis=0)\n",
    "\n",
    "  real_cols = data_df.select_dtypes(include=['number']).columns\n",
    "\n",
    "  if normalize:\n",
    "    for col in real_cols:\n",
    "      min_val = data_df[col].min()\n",
    "      max_val = data_df[col].max()\n",
    "      data_df[col] = (data_df[col] - min_val) / (max_val - min_val)\n",
    "\n",
    "  data_np = data_df.to_numpy()\n",
    "  data_np = data_np[:, 5:]\n",
    "\n",
    "  data_np = data_np.astype(float)\n",
    "\n",
    "  return data_np[:, 1:-1], data_np[:, :1]\n",
    "\n",
    "def spread_df_cls(normalize=False):\n",
    "  data_df = pd.read_csv('combined_out.csv')\n",
    "  data_df = data_df.drop('AwayTeam', axis=1)\\\n",
    "                   .drop('HomeTeam', axis=1)\\\n",
    "                   .drop('Date', axis=1)\n",
    "  data_df = data_df.dropna(axis=0)\n",
    "\n",
    "  real_cols = data_df.select_dtypes(include=['number']).columns\n",
    "\n",
    "  if normalize:\n",
    "    for col in real_cols:\n",
    "      min_val = data_df[col].min()\n",
    "      max_val = data_df[col].max()\n",
    "      data_df[col] = (data_df[col] - min_val) / (max_val - min_val)\n",
    "\n",
    "  data_np = data_df.to_numpy()\n",
    "  data_np = data_np[:, 5:]\n",
    "\n",
    "  data_np = data_np.astype(float)\n",
    "\n",
    "  return data_np[:, 1:-1], data_np[:, -1:]"
   ]
  },
  {
   "cell_type": "markdown",
   "metadata": {},
   "source": [
    "# K-Neighbors Regressor\n",
    "We are trying to calculate the true point differential of an NBA game."
   ]
  },
  {
   "cell_type": "markdown",
   "metadata": {},
   "source": [
    "## No Normalization and No Weighting"
   ]
  },
  {
   "cell_type": "code",
   "execution_count": 55,
   "metadata": {},
   "outputs": [],
   "source": [
    "X, y = spread_df_rgn()\n",
    "X_train, X_test, y_train, y_test = train_test_split(X, y, train_size=0.8, test_size=0.2)\n",
    "\n",
    "knn = KNeighborsRegressor(n_neighbors=5).fit(X_train, y_train)\n",
    "acc_train = knn.score(X_train, y_train)\n",
    "acc_test = knn.score(X_test, y_test)\n",
    "\n",
    "mae_train = mean_absolute_error(knn.predict(X_train), y_train)\n",
    "mae_test = mean_absolute_error(knn.predict(X_test), y_test)"
   ]
  },
  {
   "cell_type": "markdown",
   "metadata": {},
   "source": [
    "## Normalization without Weighting"
   ]
  },
  {
   "cell_type": "code",
   "execution_count": 56,
   "metadata": {},
   "outputs": [],
   "source": [
    "X, y = spread_df_rgn(normalize=True)\n",
    "X_train, X_test, y_train, y_test = train_test_split(X, y, train_size=0.8, test_size=0.2)\n",
    "\n",
    "knn = KNeighborsRegressor(n_neighbors=5).fit(X_train, y_train)\n",
    "acc_train = knn.score(X_train, y_train)\n",
    "acc_test = knn.score(X_test, y_test)\n",
    "\n",
    "mae_train = mean_absolute_error(knn.predict(X_train), y_train)\n",
    "mae_test = mean_absolute_error(knn.predict(X_test), y_test)"
   ]
  },
  {
   "cell_type": "markdown",
   "metadata": {},
   "source": [
    "## Normalization and Weighting"
   ]
  },
  {
   "cell_type": "code",
   "execution_count": 69,
   "metadata": {},
   "outputs": [],
   "source": [
    "X, y = spread_df_rgn(normalize=True)\n",
    "X_train, X_test, y_train, y_test = train_test_split(X, y, train_size=0.8, test_size=0.2)\n",
    "\n",
    "knn = KNeighborsRegressor(n_neighbors=5, weights='distance').fit(X_train, y_train)\n",
    "acc_train = knn.score(X_train, y_train)\n",
    "acc_test = knn.score(X_test, y_test)\n",
    "\n",
    "mae_train = mean_absolute_error(knn.predict(X_train), y_train)\n",
    "mae_test = mean_absolute_error(knn.predict(X_test), y_test)"
   ]
  },
  {
   "cell_type": "markdown",
   "metadata": {},
   "source": [
    "As k increases, MAE for test training set is around 0.056. This means that the correct score is only missed by that many points on average.\n",
    "(TBD: add charts, but we are essentially in a state of completion.)"
   ]
  },
  {
   "cell_type": "markdown",
   "metadata": {},
   "source": [
    "# K-Neighbors Classifier\n",
    "We are trying to estimate the point differential and compare it against the spread."
   ]
  },
  {
   "cell_type": "markdown",
   "metadata": {},
   "source": [
    "## Without Normalization"
   ]
  },
  {
   "cell_type": "code",
   "execution_count": 77,
   "metadata": {},
   "outputs": [
    {
     "name": "stderr",
     "output_type": "stream",
     "text": [
      "/opt/homebrew/lib/python3.11/site-packages/sklearn/neighbors/_classification.py:233: DataConversionWarning: A column-vector y was passed when a 1d array was expected. Please change the shape of y to (n_samples,), for example using ravel().\n",
      "  return self._fit(X, y)\n"
     ]
    },
    {
     "name": "stdout",
     "output_type": "stream",
     "text": [
      "Train 78.4%\n",
      "Test 65.1%\n"
     ]
    }
   ],
   "source": [
    "X, y = spread_df_cls()\n",
    "X_train, X_test, y_train, y_test = train_test_split(X, y, train_size=0.8, test_size=0.2)\n",
    "\n",
    "knn = KNeighborsClassifier(p=3).fit(X_train, y_train)\n",
    "acc_train = knn.score(X_train, y_train)\n",
    "acc_test = knn.score(X_test, y_test)\n",
    "\n",
    "print(f\"Train {acc_train*100:.1f}%\\nTest {acc_test*100:.1f}%\")"
   ]
  },
  {
   "cell_type": "markdown",
   "metadata": {},
   "source": [
    "## With Normalization"
   ]
  },
  {
   "cell_type": "code",
   "execution_count": 78,
   "metadata": {},
   "outputs": [
    {
     "name": "stderr",
     "output_type": "stream",
     "text": [
      "/opt/homebrew/lib/python3.11/site-packages/sklearn/neighbors/_classification.py:233: DataConversionWarning: A column-vector y was passed when a 1d array was expected. Please change the shape of y to (n_samples,), for example using ravel().\n",
      "  return self._fit(X, y)\n"
     ]
    }
   ],
   "source": [
    "X, y = spread_df_cls(normalize=True)\n",
    "X_train, X_test, y_train, y_test = train_test_split(X, y, train_size=0.8, test_size=0.2)\n",
    "\n",
    "knn = KNeighborsClassifier(p=3).fit(X_train, y_train)\n",
    "acc_train = knn.score(X_train, y_train)\n",
    "acc_test = knn.score(X_test, y_test)\n",
    "\n",
    "print(f\"Train {acc_train*100:.1f}%\\nTest {acc_test*100:.1f}%\")"
   ]
  }
 ],
 "metadata": {
  "kernelspec": {
   "display_name": "Python 3",
   "language": "python",
   "name": "python3"
  },
  "language_info": {
   "codemirror_mode": {
    "name": "ipython",
    "version": 3
   },
   "file_extension": ".py",
   "mimetype": "text/x-python",
   "name": "python",
   "nbconvert_exporter": "python",
   "pygments_lexer": "ipython3",
   "version": "3.11.7"
  }
 },
 "nbformat": 4,
 "nbformat_minor": 2
}
