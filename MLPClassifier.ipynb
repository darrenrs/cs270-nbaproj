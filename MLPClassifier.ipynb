{
 "cells": [
  {
   "cell_type": "code",
   "execution_count": 26,
   "id": "initial_id",
   "metadata": {
    "collapsed": true,
    "ExecuteTime": {
     "end_time": "2024-04-11T17:43:09.453980200Z",
     "start_time": "2024-04-11T17:43:09.400013500Z"
    }
   },
   "outputs": [],
   "source": [
    "import pandas as pd\n",
    "import numpy as np\n",
    "from statistics import mean\n",
    "from sklearn.neural_network import MLPClassifier\n",
    "from sklearn.model_selection import train_test_split\n",
    "import matplotlib.pyplot as plt\n",
    "import tabulate\n",
    "\n",
    "# REGRESSION\n",
    "# Return X = testable features, Y = point spread\n",
    "def spread_df_rgn(normalize=False, get_custom_date_range=False, substituted_spreads=None):\n",
    "  data_df = pd.read_csv('combined_out.csv')\n",
    "\n",
    "  real_cols = data_df.select_dtypes(include=['number']).columns\n",
    "\n",
    "  if not get_custom_date_range:\n",
    "    data_df = data_df.dropna(axis=0)\n",
    "\n",
    "  if normalize:\n",
    "    for col in real_cols:\n",
    "      min_val = data_df[col].min()\n",
    "      max_val = data_df[col].max()\n",
    "      data_df[col] = (data_df[col] - min_val) / (max_val - min_val)\n",
    "\n",
    "  if get_custom_date_range:\n",
    "    data_df = data_df[(data_df['Date'] >= '2024-04-01') & (data_df['Date'] <= '2024-04-07')]\n",
    "    data_df['HomeSpread'] = substituted_spreads\n",
    "    data_df['HomeSpreadCorrectDirection'] = data_df['HomeSpreadActual'] > data_df['HomeSpread']\n",
    "    data_df['HomeSpreadCorrectDirection'] = data_df['HomeSpreadCorrectDirection'].astype(int)\n",
    "  \n",
    "  data_df = data_df.drop('AwayTeam', axis=1)\\\n",
    "                   .drop('HomeTeam', axis=1)\\\n",
    "                   .drop('Date', axis=1)\n",
    "  \n",
    "  data_np = data_df.to_numpy()\n",
    "  data_np = data_np[:, 5:]\n",
    "\n",
    "  data_np = data_np.astype(float)\n",
    "\n",
    "  return data_np[:, 1:-1], data_np[:, :1]\n",
    "\n",
    "# CLASSIFICATION\n",
    "# Return X = testable features, Y = correct point spread direction\n",
    "def spread_df_cls(normalize=False, get_custom_date_range=False, substituted_spreads=None):\n",
    "  data_df = pd.read_csv('combined_out.csv')\n",
    "\n",
    "  real_cols = data_df.select_dtypes(include=['number']).columns\n",
    "\n",
    "  if not get_custom_date_range:\n",
    "    data_df = data_df.dropna(axis=0)\n",
    "\n",
    "  if normalize:\n",
    "    for col in real_cols:\n",
    "      min_val = data_df[col].min()\n",
    "      max_val = data_df[col].max()\n",
    "      data_df[col] = (data_df[col] - min_val) / (max_val - min_val)\n",
    "\n",
    "  if get_custom_date_range:\n",
    "    data_df = data_df[(data_df['Date'] >= '2024-04-01') & (data_df['Date'] <= '2024-04-07')]\n",
    "    data_df['HomeSpread'] = substituted_spreads\n",
    "    data_df['HomeSpreadCorrectDirection'] = data_df['HomeSpreadActual'] > data_df['HomeSpread']\n",
    "    data_df['HomeSpreadCorrectDirection'] = data_df['HomeSpreadCorrectDirection'].astype(int)\n",
    "\n",
    "  data_df = data_df.drop('AwayTeam', axis=1)\\\n",
    "                   .drop('HomeTeam', axis=1)\\\n",
    "                   .drop('Date', axis=1)\n",
    "  \n",
    "  data_np = data_df.to_numpy()\n",
    "  data_np = data_np[:, 5:]\n",
    "\n",
    "  data_np = data_np.astype(float)\n",
    "\n",
    "  return data_np[:, 1:-1], data_np[:, -1:]"
   ]
  },
  {
   "cell_type": "markdown",
   "source": [
    "MLP Classifier"
   ],
   "metadata": {
    "collapsed": false
   },
   "id": "318f107778483422"
  },
  {
   "cell_type": "markdown",
   "source": [
    "Early Stopping Tests"
   ],
   "metadata": {
    "collapsed": false
   },
   "id": "a2ecdc666535c23d"
  },
  {
   "cell_type": "code",
   "execution_count": 28,
   "outputs": [
    {
     "name": "stderr",
     "output_type": "stream",
     "text": [
      "C:\\Users\\hamil\\anaconda3\\Lib\\site-packages\\sklearn\\neural_network\\_multilayer_perceptron.py:1102: DataConversionWarning: A column-vector y was passed when a 1d array was expected. Please change the shape of y to (n_samples, ), for example using ravel().\n",
      "  y = column_or_1d(y, warn=True)\n",
      "C:\\Users\\hamil\\anaconda3\\Lib\\site-packages\\sklearn\\neural_network\\_multilayer_perceptron.py:1102: DataConversionWarning: A column-vector y was passed when a 1d array was expected. Please change the shape of y to (n_samples, ), for example using ravel().\n",
      "  y = column_or_1d(y, warn=True)\n",
      "C:\\Users\\hamil\\anaconda3\\Lib\\site-packages\\sklearn\\neural_network\\_multilayer_perceptron.py:1102: DataConversionWarning: A column-vector y was passed when a 1d array was expected. Please change the shape of y to (n_samples, ), for example using ravel().\n",
      "  y = column_or_1d(y, warn=True)\n",
      "C:\\Users\\hamil\\anaconda3\\Lib\\site-packages\\sklearn\\neural_network\\_multilayer_perceptron.py:1102: DataConversionWarning: A column-vector y was passed when a 1d array was expected. Please change the shape of y to (n_samples, ), for example using ravel().\n",
      "  y = column_or_1d(y, warn=True)\n",
      "C:\\Users\\hamil\\anaconda3\\Lib\\site-packages\\sklearn\\neural_network\\_multilayer_perceptron.py:1102: DataConversionWarning: A column-vector y was passed when a 1d array was expected. Please change the shape of y to (n_samples, ), for example using ravel().\n",
      "  y = column_or_1d(y, warn=True)\n"
     ]
    },
    {
     "name": "stdout",
     "output_type": "stream",
     "text": [
      "Average results with Early Stopping\n",
      "Converged after 73.2 iterations\n",
      "Train Accuracy: 0.546418428526349\n",
      "Test Accuracy: 0.5373043917213529\n"
     ]
    },
    {
     "name": "stderr",
     "output_type": "stream",
     "text": [
      "C:\\Users\\hamil\\anaconda3\\Lib\\site-packages\\sklearn\\neural_network\\_multilayer_perceptron.py:1102: DataConversionWarning: A column-vector y was passed when a 1d array was expected. Please change the shape of y to (n_samples, ), for example using ravel().\n",
      "  y = column_or_1d(y, warn=True)\n",
      "C:\\Users\\hamil\\anaconda3\\Lib\\site-packages\\sklearn\\neural_network\\_multilayer_perceptron.py:1102: DataConversionWarning: A column-vector y was passed when a 1d array was expected. Please change the shape of y to (n_samples, ), for example using ravel().\n",
      "  y = column_or_1d(y, warn=True)\n",
      "C:\\Users\\hamil\\anaconda3\\Lib\\site-packages\\sklearn\\neural_network\\_multilayer_perceptron.py:1102: DataConversionWarning: A column-vector y was passed when a 1d array was expected. Please change the shape of y to (n_samples, ), for example using ravel().\n",
      "  y = column_or_1d(y, warn=True)\n",
      "C:\\Users\\hamil\\anaconda3\\Lib\\site-packages\\sklearn\\neural_network\\_multilayer_perceptron.py:1102: DataConversionWarning: A column-vector y was passed when a 1d array was expected. Please change the shape of y to (n_samples, ), for example using ravel().\n",
      "  y = column_or_1d(y, warn=True)\n",
      "C:\\Users\\hamil\\anaconda3\\Lib\\site-packages\\sklearn\\neural_network\\_multilayer_perceptron.py:1102: DataConversionWarning: A column-vector y was passed when a 1d array was expected. Please change the shape of y to (n_samples, ), for example using ravel().\n",
      "  y = column_or_1d(y, warn=True)\n"
     ]
    },
    {
     "name": "stdout",
     "output_type": "stream",
     "text": [
      "Average results with Early Stopping\n",
      "Converged after 17.6 iterations\n",
      "Train Accuracy: 0.5377847901546229\n",
      "Test Accuracy: 0.5311458859162039\n"
     ]
    }
   ],
   "source": [
    "x, y = spread_df_cls()\n",
    "x_train, x_test, y_train, y_test = train_test_split(x, y, train_size=0.8, test_size=0.2)\n",
    "\n",
    "converged_early = []\n",
    "converged = []\n",
    "train_accuracy_early = []\n",
    "train_accuracy = []\n",
    "test_accuracy_early = []\n",
    "test_accuracy = []\n",
    "\n",
    "for i in range(5):\n",
    "  clf = MLPClassifier( alpha=0.001, hidden_layer_sizes=[128], learning_rate_init=0.01)\n",
    "  clf.fit(x_train, y_train)\n",
    "  \n",
    "  converged.append(clf.n_iter_)\n",
    "  train_accuracy.append(clf.score(x_train, y_train))\n",
    "  test_accuracy.append(clf.score(x_test, y_test))\n",
    "  \n",
    "print(\"Average results without Early Stopping\")\n",
    "print(\"Converged after\", mean(converged), \"iterations\")\n",
    "print(\"Train Accuracy:\", mean(train_accuracy))\n",
    "print(\"Test Accuracy:\", mean(test_accuracy))\n",
    "  \n",
    "for i in range(5):\n",
    "  clf = MLPClassifier(early_stopping=True, alpha=0.001, hidden_layer_sizes=[128], learning_rate_init=0.01)\n",
    "  clf.fit(x_train, y_train)\n",
    "  \n",
    "  converged_early.append(clf.n_iter_)\n",
    "  train_accuracy_early.append(clf.score(x_train, y_train))\n",
    "  test_accuracy_early.append(clf.score(x_test, y_test))\n",
    "  \n",
    "print(\"Average results with Early Stopping\")\n",
    "print(\"Converged after\", mean(converged_early), \"iterations\")\n",
    "print(\"Train Accuracy:\", mean(train_accuracy_early))\n",
    "print(\"Test Accuracy:\", mean(test_accuracy_early))"
   ],
   "metadata": {
    "collapsed": false,
    "ExecuteTime": {
     "end_time": "2024-04-11T17:46:05.423897600Z",
     "start_time": "2024-04-11T17:45:09.259488Z"
    }
   },
   "id": "5ae4db5fb5c136d5"
  },
  {
   "cell_type": "code",
   "execution_count": null,
   "outputs": [],
   "source": [],
   "metadata": {
    "collapsed": false
   },
   "id": "be47a37453989e10"
  }
 ],
 "metadata": {
  "kernelspec": {
   "display_name": "Python 3",
   "language": "python",
   "name": "python3"
  },
  "language_info": {
   "codemirror_mode": {
    "name": "ipython",
    "version": 2
   },
   "file_extension": ".py",
   "mimetype": "text/x-python",
   "name": "python",
   "nbconvert_exporter": "python",
   "pygments_lexer": "ipython2",
   "version": "2.7.6"
  }
 },
 "nbformat": 4,
 "nbformat_minor": 5
}
