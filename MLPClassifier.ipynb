{
 "cells": [
  {
   "cell_type": "code",
   "execution_count": 30,
   "id": "initial_id",
   "metadata": {
    "collapsed": true,
    "ExecuteTime": {
     "end_time": "2024-04-11T17:56:27.172605700Z",
     "start_time": "2024-04-11T17:56:27.120718Z"
    }
   },
   "outputs": [],
   "source": [
    "import pandas as pd\n",
    "import numpy as np\n",
    "from statistics import mean\n",
    "from sklearn.neural_network import MLPClassifier\n",
    "from sklearn.model_selection import train_test_split\n",
    "import matplotlib.pyplot as plt\n",
    "from tabulate import tabulate\n",
    "\n",
    "# REGRESSION\n",
    "# Return X = testable features, Y = point spread\n",
    "def spread_df_rgn(normalize=False, get_custom_date_range=False, substituted_spreads=None):\n",
    "  data_df = pd.read_csv('combined_out.csv')\n",
    "\n",
    "  real_cols = data_df.select_dtypes(include=['number']).columns\n",
    "\n",
    "  if not get_custom_date_range:\n",
    "    data_df = data_df.dropna(axis=0)\n",
    "\n",
    "  if normalize:\n",
    "    for col in real_cols:\n",
    "      min_val = data_df[col].min()\n",
    "      max_val = data_df[col].max()\n",
    "      data_df[col] = (data_df[col] - min_val) / (max_val - min_val)\n",
    "\n",
    "  if get_custom_date_range:\n",
    "    data_df = data_df[(data_df['Date'] >= '2024-04-01') & (data_df['Date'] <= '2024-04-07')]\n",
    "    data_df['HomeSpread'] = substituted_spreads\n",
    "    data_df['HomeSpreadCorrectDirection'] = data_df['HomeSpreadActual'] > data_df['HomeSpread']\n",
    "    data_df['HomeSpreadCorrectDirection'] = data_df['HomeSpreadCorrectDirection'].astype(int)\n",
    "  \n",
    "  data_df = data_df.drop('AwayTeam', axis=1)\\\n",
    "                   .drop('HomeTeam', axis=1)\\\n",
    "                   .drop('Date', axis=1)\n",
    "  \n",
    "  data_np = data_df.to_numpy()\n",
    "  data_np = data_np[:, 5:]\n",
    "\n",
    "  data_np = data_np.astype(float)\n",
    "\n",
    "  return data_np[:, 1:-1], data_np[:, :1]\n",
    "\n",
    "# CLASSIFICATION\n",
    "# Return X = testable features, Y = correct point spread direction\n",
    "def spread_df_cls(normalize=False, get_custom_date_range=False, substituted_spreads=None):\n",
    "  data_df = pd.read_csv('combined_out.csv')\n",
    "\n",
    "  real_cols = data_df.select_dtypes(include=['number']).columns\n",
    "\n",
    "  if not get_custom_date_range:\n",
    "    data_df = data_df.dropna(axis=0)\n",
    "\n",
    "  if normalize:\n",
    "    for col in real_cols:\n",
    "      min_val = data_df[col].min()\n",
    "      max_val = data_df[col].max()\n",
    "      data_df[col] = (data_df[col] - min_val) / (max_val - min_val)\n",
    "\n",
    "  if get_custom_date_range:\n",
    "    data_df = data_df[(data_df['Date'] >= '2024-04-01') & (data_df['Date'] <= '2024-04-07')]\n",
    "    data_df['HomeSpread'] = substituted_spreads\n",
    "    data_df['HomeSpreadCorrectDirection'] = data_df['HomeSpreadActual'] > data_df['HomeSpread']\n",
    "    data_df['HomeSpreadCorrectDirection'] = data_df['HomeSpreadCorrectDirection'].astype(int)\n",
    "\n",
    "  data_df = data_df.drop('AwayTeam', axis=1)\\\n",
    "                   .drop('HomeTeam', axis=1)\\\n",
    "                   .drop('Date', axis=1)\n",
    "  \n",
    "  data_np = data_df.to_numpy()\n",
    "  data_np = data_np[:, 5:]\n",
    "\n",
    "  data_np = data_np.astype(float)\n",
    "\n",
    "  return data_np[:, 1:-1], data_np[:, -1:]"
   ]
  },
  {
   "cell_type": "markdown",
   "source": [
    "MLP Classifier"
   ],
   "metadata": {
    "collapsed": false
   },
   "id": "318f107778483422"
  },
  {
   "cell_type": "markdown",
   "source": [
    "Early Stopping Tests"
   ],
   "metadata": {
    "collapsed": false
   },
   "id": "a2ecdc666535c23d"
  },
  {
   "cell_type": "code",
   "execution_count": 34,
   "outputs": [
    {
     "name": "stderr",
     "output_type": "stream",
     "text": [
      "C:\\Users\\hamil\\anaconda3\\Lib\\site-packages\\sklearn\\neural_network\\_multilayer_perceptron.py:1102: DataConversionWarning: A column-vector y was passed when a 1d array was expected. Please change the shape of y to (n_samples, ), for example using ravel().\n",
      "  y = column_or_1d(y, warn=True)\n",
      "C:\\Users\\hamil\\anaconda3\\Lib\\site-packages\\sklearn\\neural_network\\_multilayer_perceptron.py:1102: DataConversionWarning: A column-vector y was passed when a 1d array was expected. Please change the shape of y to (n_samples, ), for example using ravel().\n",
      "  y = column_or_1d(y, warn=True)\n",
      "C:\\Users\\hamil\\anaconda3\\Lib\\site-packages\\sklearn\\neural_network\\_multilayer_perceptron.py:1102: DataConversionWarning: A column-vector y was passed when a 1d array was expected. Please change the shape of y to (n_samples, ), for example using ravel().\n",
      "  y = column_or_1d(y, warn=True)\n",
      "C:\\Users\\hamil\\anaconda3\\Lib\\site-packages\\sklearn\\neural_network\\_multilayer_perceptron.py:1102: DataConversionWarning: A column-vector y was passed when a 1d array was expected. Please change the shape of y to (n_samples, ), for example using ravel().\n",
      "  y = column_or_1d(y, warn=True)\n",
      "C:\\Users\\hamil\\anaconda3\\Lib\\site-packages\\sklearn\\neural_network\\_multilayer_perceptron.py:1102: DataConversionWarning: A column-vector y was passed when a 1d array was expected. Please change the shape of y to (n_samples, ), for example using ravel().\n",
      "  y = column_or_1d(y, warn=True)\n"
     ]
    },
    {
     "name": "stdout",
     "output_type": "stream",
     "text": [
      "Average results without Early Stopping\n",
      "Converged after 38.2 iterations\n",
      "Train Accuracy: 0.5031113916061849\n",
      "Test Accuracy: 0.5103987884906612\n"
     ]
    },
    {
     "name": "stderr",
     "output_type": "stream",
     "text": [
      "C:\\Users\\hamil\\anaconda3\\Lib\\site-packages\\sklearn\\neural_network\\_multilayer_perceptron.py:1102: DataConversionWarning: A column-vector y was passed when a 1d array was expected. Please change the shape of y to (n_samples, ), for example using ravel().\n",
      "  y = column_or_1d(y, warn=True)\n",
      "C:\\Users\\hamil\\anaconda3\\Lib\\site-packages\\sklearn\\neural_network\\_multilayer_perceptron.py:1102: DataConversionWarning: A column-vector y was passed when a 1d array was expected. Please change the shape of y to (n_samples, ), for example using ravel().\n",
      "  y = column_or_1d(y, warn=True)\n",
      "C:\\Users\\hamil\\anaconda3\\Lib\\site-packages\\sklearn\\neural_network\\_multilayer_perceptron.py:1102: DataConversionWarning: A column-vector y was passed when a 1d array was expected. Please change the shape of y to (n_samples, ), for example using ravel().\n",
      "  y = column_or_1d(y, warn=True)\n",
      "C:\\Users\\hamil\\anaconda3\\Lib\\site-packages\\sklearn\\neural_network\\_multilayer_perceptron.py:1102: DataConversionWarning: A column-vector y was passed when a 1d array was expected. Please change the shape of y to (n_samples, ), for example using ravel().\n",
      "  y = column_or_1d(y, warn=True)\n",
      "C:\\Users\\hamil\\anaconda3\\Lib\\site-packages\\sklearn\\neural_network\\_multilayer_perceptron.py:1102: DataConversionWarning: A column-vector y was passed when a 1d array was expected. Please change the shape of y to (n_samples, ), for example using ravel().\n",
      "  y = column_or_1d(y, warn=True)\n"
     ]
    },
    {
     "name": "stdout",
     "output_type": "stream",
     "text": [
      "Results with Early Stopping\n",
      "Converged after 17.6 iterations\n",
      "Train Accuracy: 0.5204417797412433\n",
      "Test Accuracy: 0.5191317516405856\n"
     ]
    },
    {
     "ename": "TypeError",
     "evalue": "'module' object is not callable",
     "output_type": "error",
     "traceback": [
      "\u001B[1;31m---------------------------------------------------------------------------\u001B[0m",
      "\u001B[1;31mTypeError\u001B[0m                                 Traceback (most recent call last)",
      "Cell \u001B[1;32mIn[34], line 45\u001B[0m\n\u001B[0;32m     42\u001B[0m headers \u001B[38;5;241m=\u001B[39m [\u001B[38;5;124m\"\u001B[39m\u001B[38;5;124mIterations\u001B[39m\u001B[38;5;124m\"\u001B[39m, \u001B[38;5;124m\"\u001B[39m\u001B[38;5;124mTrain Accuracy\u001B[39m\u001B[38;5;124m\"\u001B[39m, \u001B[38;5;124m\"\u001B[39m\u001B[38;5;124mTest Accuracy\u001B[39m\u001B[38;5;124m\"\u001B[39m]\n\u001B[0;32m     43\u001B[0m table \u001B[38;5;241m=\u001B[39m [(converged_early[i], train_accuracy_early[i], test_accuracy_early[i]) \u001B[38;5;28;01mfor\u001B[39;00m i \u001B[38;5;129;01min\u001B[39;00m \u001B[38;5;28mrange\u001B[39m(\u001B[38;5;28mlen\u001B[39m(converged_early))]\n\u001B[1;32m---> 45\u001B[0m \u001B[38;5;28mprint\u001B[39m(tabulate(table, headers, tablefmt\u001B[38;5;241m=\u001B[39m\u001B[38;5;124m\"\u001B[39m\u001B[38;5;124mgrid\u001B[39m\u001B[38;5;124m\"\u001B[39m))\n",
      "\u001B[1;31mTypeError\u001B[0m: 'module' object is not callable"
     ]
    }
   ],
   "source": [
    "x, y = spread_df_cls()\n",
    "x_train, x_test, y_train, y_test = train_test_split(x, y, train_size=0.8, test_size=0.2)\n",
    "\n",
    "converged_early = []\n",
    "converged = []\n",
    "train_accuracy_early = []\n",
    "train_accuracy = []\n",
    "test_accuracy_early = []\n",
    "test_accuracy = []\n",
    "\n",
    "for i in range(5):\n",
    "  clf = MLPClassifier()\n",
    "  clf.fit(x_train, y_train)\n",
    "  \n",
    "  converged.append(clf.n_iter_)\n",
    "  train_accuracy.append(clf.score(x_train, y_train))\n",
    "  test_accuracy.append(clf.score(x_test, y_test))\n",
    "  \n",
    "print(\"Average results without Early Stopping\")\n",
    "print(\"Converged after\", mean(converged), \"iterations\")\n",
    "print(\"Train Accuracy:\", mean(train_accuracy))\n",
    "print(\"Test Accuracy:\", mean(test_accuracy))\n",
    "      \n",
    "headers = [\"Iterations\", \"Train Accuracy\", \"Test Accuracy\"]\n",
    "table = [(converged[i], train_accuracy[i], test_accuracy[i]) for i in range(len(converged))]\n",
    "\n",
    "# print(tabulate(table, headers, tablefmt=\"grid\"))\n",
    "  \n",
    "for i in range(5):\n",
    "  clf = MLPClassifier(early_stopping=True)\n",
    "  clf.fit(x_train, y_train)\n",
    "  \n",
    "  converged_early.append(clf.n_iter_)\n",
    "  train_accuracy_early.append(clf.score(x_train, y_train))\n",
    "  test_accuracy_early.append(clf.score(x_test, y_test))\n",
    "  \n",
    "print(\"Results with Early Stopping\")\n",
    "print(\"Converged after\", mean(converged_early), \"iterations\")\n",
    "print(\"Train Accuracy:\", mean(train_accuracy_early))\n",
    "print(\"Test Accuracy:\", mean(test_accuracy_early))\n",
    "\n",
    "headers = [\"Iterations\", \"Train Accuracy\", \"Test Accuracy\"]\n",
    "table = [(converged_early[i], train_accuracy_early[i], test_accuracy_early[i]) for i in range(len(converged_early))]\n",
    "\n",
    "# print(tabulate(table, headers, tablefmt=\"grid\"))"
   ],
   "metadata": {
    "collapsed": false,
    "ExecuteTime": {
     "end_time": "2024-04-11T18:06:14.580072900Z",
     "start_time": "2024-04-11T18:05:43.088654Z"
    }
   },
   "id": "5ae4db5fb5c136d5"
  },
  {
   "cell_type": "code",
   "execution_count": null,
   "outputs": [],
   "source": [],
   "metadata": {
    "collapsed": false
   },
   "id": "be47a37453989e10"
  }
 ],
 "metadata": {
  "kernelspec": {
   "display_name": "Python 3",
   "language": "python",
   "name": "python3"
  },
  "language_info": {
   "codemirror_mode": {
    "name": "ipython",
    "version": 2
   },
   "file_extension": ".py",
   "mimetype": "text/x-python",
   "name": "python",
   "nbconvert_exporter": "python",
   "pygments_lexer": "ipython2",
   "version": "2.7.6"
  }
 },
 "nbformat": 4,
 "nbformat_minor": 5
}
